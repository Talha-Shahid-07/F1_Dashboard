{
 "cells": [
  {
   "cell_type": "code",
   "execution_count": 136,
   "id": "4418391c-3159-4d67-b93e-bf2d5c16b76d",
   "metadata": {},
   "outputs": [],
   "source": [
    "import pandas as pd\n",
    "import numpy as np\n",
    "\n",
    "drivers = pd.read_csv(\"drivers.csv\", na_values=r'\\N')\n",
    "constructors = pd.read_csv(\"constructors.csv\", na_values=r'\\N')\n",
    "races = pd.read_csv(\"races.csv\", na_values=r'\\N')\n",
    "results = pd.read_csv(\"results.csv\", na_values=r'\\N')\n",
    "seasons = pd.read_csv(\"seasons.csv\", na_values=r'\\N')\n",
    "circuits = pd.read_csv(\"circuits.csv\",na_values=r'\\N')\n",
    "status = pd.read_csv(\"status.csv\", na_values=r'\\N')\n",
    "driver_standings = pd.read_csv(\"driver_standings.csv\", na_values=r'\\N')\n",
    "constructor_standings = pd.read_csv(\"constructor_standings.csv\", na_values=r'\\N')\n",
    "pit_stops = pd.read_csv(\"pit_stops.csv\", na_values=r'\\N')\n",
    "driver_standings = driver_standings.rename(columns=lambda x: x.strip().lower())\n",
    "\n",
    "\n"
   ]
  },
  {
   "cell_type": "code",
   "execution_count": 137,
   "id": "98f4c550-0209-412f-a2eb-66bb2f1cebdf",
   "metadata": {},
   "outputs": [
    {
     "name": "stdout",
     "output_type": "stream",
     "text": [
      "Cleaning drivers table...\n",
      "   driverid   driverref  forename     surname         dob nationality\n",
      "0         1    hamilton     Lewis    Hamilton  1985-01-07     British\n",
      "1         2    heidfeld      Nick    Heidfeld  1977-05-10      German\n",
      "2         3     rosberg      Nico     Rosberg  1985-06-27      German\n",
      "3         4      alonso  Fernando      Alonso  1981-07-29     Spanish\n",
      "4         5  kovalainen    Heikki  Kovalainen  1981-10-19     Finnish\n"
     ]
    },
    {
     "name": "stderr",
     "output_type": "stream",
     "text": [
      "C:\\Users\\Dell\\AppData\\Local\\Temp\\ipykernel_24088\\2690699576.py:4: FutureWarning: Setting an item of incompatible dtype is deprecated and will raise an error in a future version of pandas. Value 'Unknown' has dtype incompatible with float64, please explicitly cast to a compatible dtype first.\n",
      "  drivers.fillna(\"Unknown\", inplace=True)  # Handle missing values\n"
     ]
    }
   ],
   "source": [
    "# 1. Drivers Table\n",
    "print(\"Cleaning drivers table...\")\n",
    "drivers = drivers.rename(columns=lambda x: x.strip().lower()) \n",
    "drivers.fillna(\"Unknown\", inplace=True)  \n",
    "# Drop unnecessary columns\n",
    "drivers = drivers.drop(columns=['number',\"code\", 'url'], errors='ignore') \n",
    "print(drivers.head())"
   ]
  },
  {
   "cell_type": "code",
   "execution_count": 138,
   "id": "6840cb62-e301-4a70-bb81-1eaf730c9925",
   "metadata": {},
   "outputs": [
    {
     "name": "stdout",
     "output_type": "stream",
     "text": [
      "Cleaning constructors table...\n",
      "   constructorid constructorref        name nationality\n",
      "0              1        mclaren     McLaren     British\n",
      "1              2     bmw_sauber  BMW Sauber      German\n",
      "2              3       williams    Williams     British\n",
      "3              4        renault     Renault      French\n",
      "4              5     toro_rosso  Toro Rosso     Italian\n"
     ]
    }
   ],
   "source": [
    "# 2. Constructors Table\n",
    "print(\"Cleaning constructors table...\")\n",
    "constructors = constructors.rename(columns=lambda x: x.strip().lower())\n",
    "constructors.fillna(\"Unknown\", inplace=True)\n",
    "constructors = constructors.drop(columns=['url'], errors='ignore')\n",
    "print(constructors.head())\n"
   ]
  },
  {
   "cell_type": "code",
   "execution_count": 139,
   "id": "286c7450-7592-4e35-9705-5c81c3972c01",
   "metadata": {},
   "outputs": [
    {
     "name": "stdout",
     "output_type": "stream",
     "text": [
      "Cleaning races table...\n",
      "   raceid  year  round  circuitid                   name       date\n",
      "0       1  2009      1          1  Australian Grand Prix 2009-03-29\n",
      "1       2  2009      2          2   Malaysian Grand Prix 2009-04-05\n",
      "2       3  2009      3         17     Chinese Grand Prix 2009-04-19\n",
      "3       4  2009      4          3     Bahrain Grand Prix 2009-04-26\n",
      "4       5  2009      5          4     Spanish Grand Prix 2009-05-10\n"
     ]
    }
   ],
   "source": [
    "\n",
    "# 3. Races Table\n",
    "print(\"Cleaning races table...\")\n",
    "races = races.rename(columns=lambda x: x.strip().lower())\n",
    "races[\"date\"] = pd.to_datetime(races[\"date\"], errors=\"coerce\") \n",
    "races.fillna(\"Unknown\", inplace=True)\n",
    "races = races.drop(columns=['time', 'url', 'fp1_date', 'fp1_time', 'fp2_date', 'fp2_time', 'fp3_date', 'fp3_time', 'quali_date', 'quali_time', 'sprint_date', 'sprint_time'], errors='ignore')\n",
    "print(races.head())\n",
    "\n"
   ]
  },
  {
   "cell_type": "code",
   "execution_count": 172,
   "id": "a3d7f7f9-f1da-45a0-a8e7-0be032947322",
   "metadata": {},
   "outputs": [
    {
     "name": "stdout",
     "output_type": "stream",
     "text": [
      "0.0\n",
      "   resultid  raceid  driverid  constructorid  grid  position  positionorder  \\\n",
      "0         1      18         1              1     1       1.0              1   \n",
      "1         2      18         2              2     5       2.0              2   \n",
      "2         3      18         3              3     7       3.0              3   \n",
      "3         4      18         4              4    11       4.0              4   \n",
      "4         5      18         5              1     3       5.0              5   \n",
      "5         6      18         6              3    13       6.0              6   \n",
      "6         7      18         7              5    17       7.0              7   \n",
      "7         8      18         8              6    15       8.0              8   \n",
      "8         9      18         9              2     2       0.0              9   \n",
      "9        10      18        10              7    18       0.0             10   \n",
      "\n",
      "   points  laps  rank fastestlaptime  statusid  \n",
      "0    10.0    58   2.0       1:27.452         1  \n",
      "1     8.0    58   3.0       1:27.739         1  \n",
      "2     6.0    58   5.0       1:28.090         1  \n",
      "3     5.0    58   7.0       1:28.603         1  \n",
      "4     4.0    58   1.0       1:27.418         1  \n",
      "5     3.0    57  14.0       1:29.639        11  \n",
      "6     2.0    55   8.0       1:29.534         5  \n",
      "7     1.0    53   4.0       1:27.903         5  \n",
      "8     0.0    47   9.0       1:28.753         4  \n",
      "9     0.0    43  13.0       1:29.558         3  \n"
     ]
    }
   ],
   "source": [
    "# 4. Results Table\n",
    "\n",
    "results = results.rename(columns=lambda x: x.strip().lower())\n",
    "\n",
    "results = results.drop(columns=['number', 'fastestlap','fastestlapspeed',\"milliseconds\",\"time\",\"positiontext\"], errors='ignore')\n",
    "\n",
    "print((results.isnull().sum().sum())/(np.product(results.shape)) * 100)\n",
    "results.head()\n",
    "results.fillna(0, inplace=True) \n",
    "print(results.head(10))\n",
    "\n"
   ]
  },
  {
   "cell_type": "code",
   "execution_count": 153,
   "id": "180e5bd8-6db4-45e8-8723-3754ee23bf0d",
   "metadata": {},
   "outputs": [
    {
     "name": "stdout",
     "output_type": "stream",
     "text": [
      "Cleaning seasons table...\n",
      "   year\n",
      "0  2009\n",
      "1  2008\n",
      "2  2007\n",
      "3  2006\n",
      "4  2005\n"
     ]
    }
   ],
   "source": [
    "# 5. Seasons Table\n",
    "print(\"Cleaning seasons table...\")\n",
    "seasons = seasons.rename(columns=lambda x: x.strip().lower())\n",
    "seasons.fillna(\"Unknown\", inplace=True)\n",
    "seasons = seasons.drop(columns=['url'], errors='ignore')\n",
    "print(seasons.head())\n"
   ]
  },
  {
   "cell_type": "code",
   "execution_count": 154,
   "id": "1dc5b061-40ce-4697-88e2-c3707ac9221d",
   "metadata": {},
   "outputs": [
    {
     "name": "stdout",
     "output_type": "stream",
     "text": [
      "Cleaning circuits table...\n",
      "   circuitid   circuitref                            name      location  \\\n",
      "0          1  albert_park  Albert Park Grand Prix Circuit     Melbourne   \n",
      "1          2       sepang    Sepang International Circuit  Kuala Lumpur   \n",
      "2          3      bahrain   Bahrain International Circuit        Sakhir   \n",
      "3          4    catalunya  Circuit de Barcelona-Catalunya      Montmeló   \n",
      "4          5     istanbul                   Istanbul Park      Istanbul   \n",
      "\n",
      "     country  \n",
      "0  Australia  \n",
      "1   Malaysia  \n",
      "2    Bahrain  \n",
      "3      Spain  \n",
      "4     Turkey  \n"
     ]
    }
   ],
   "source": [
    "\n",
    "# 6. Circuits Table\n",
    "print(\"Cleaning circuits table...\")\n",
    "circuits = circuits.rename(columns=lambda x: x.strip().lower())\n",
    "circuits.fillna(\"Unknown\", inplace=True)\n",
    "circuits = circuits.drop(columns=['url', \"lat\", \"lng\", \"alt\"], errors='ignore')\n",
    "print(circuits.head())\n",
    "\n"
   ]
  },
  {
   "cell_type": "code",
   "execution_count": 155,
   "id": "0e6ad52f-e789-4eee-8ac0-4b05a94c0eca",
   "metadata": {},
   "outputs": [
    {
     "name": "stdout",
     "output_type": "stream",
     "text": [
      "Cleaning status table...\n",
      "   statusid        status\n",
      "0         1      Finished\n",
      "1         2  Disqualified\n",
      "2         3      Accident\n",
      "3         4     Collision\n",
      "4         5        Engine\n"
     ]
    }
   ],
   "source": [
    "# 7. Status Table\n",
    "print(\"Cleaning status table...\")\n",
    "status = status.rename(columns=lambda x: x.strip().lower())\n",
    "status.fillna(\"Unknown\", inplace=True)\n",
    "print(status.head())\n"
   ]
  },
  {
   "cell_type": "code",
   "execution_count": 161,
   "id": "acb351e8-66ce-46d9-a80c-8c08cc3890ad",
   "metadata": {},
   "outputs": [
    {
     "name": "stdout",
     "output_type": "stream",
     "text": [
      "   driverstandingsid  raceid  driverid  points  position  wins\n",
      "0                  1      18         1    10.0         1     1\n",
      "1                  2      18         2     8.0         2     0\n",
      "2                  3      18         3     6.0         3     0\n",
      "3                  4      18         4     5.0         4     0\n",
      "4                  5      18         5     4.0         5     0\n"
     ]
    }
   ],
   "source": [
    "# 8. Driver Standings Table\n",
    "driver_standings = driver_standings.rename(columns=lambda x: x.strip().lower())\n",
    "driver_standings = driver_standings.drop(columns=['positiontext'], errors='ignore')\n",
    "driver_standings.isnull().sum().sum() # no null values\n",
    "print(driver_standings.head())\n",
    "\n"
   ]
  },
  {
   "cell_type": "code",
   "execution_count": 162,
   "id": "7360add6-fc54-4f46-bb42-5ab71e6c6c25",
   "metadata": {},
   "outputs": [
    {
     "name": "stdout",
     "output_type": "stream",
     "text": [
      "   constructorstandingsid  raceid  constructorid  points  position  wins\n",
      "0                       1      18              1    14.0         1     1\n",
      "1                       2      18              2     8.0         3     0\n",
      "2                       3      18              3     9.0         2     0\n",
      "3                       4      18              4     5.0         4     0\n",
      "4                       5      18              5     2.0         5     0\n"
     ]
    }
   ],
   "source": [
    "# 9. Constructor Standings Table\n",
    "constructor_standings = constructor_standings.rename(columns=lambda x: x.strip().lower())\n",
    "constructor_standings = constructor_standings.drop(columns=['positiontext'], errors='ignore')\n",
    "\n",
    "constructor_standings.isnull().sum().sum() # no null values\n",
    "print(constructor_standings.head())\n",
    "\n"
   ]
  },
  {
   "cell_type": "code",
   "execution_count": 166,
   "id": "0b32b027-7510-41cf-9221-125afacd068e",
   "metadata": {},
   "outputs": [
    {
     "data": {
      "text/plain": [
       "raceId            int64\n",
       "driverId          int64\n",
       "stop              int64\n",
       "lap               int64\n",
       "time             object\n",
       "duration        float64\n",
       "milliseconds      int64\n",
       "dtype: object"
      ]
     },
     "execution_count": 166,
     "metadata": {},
     "output_type": "execute_result"
    }
   ],
   "source": [
    "pit_stops['duration'] = pit_stops['milliseconds'].apply(lambda x: x/1000)\n",
    "pit_stops.head()\n",
    "pit_stops.drop(columns = [\"time\"], errors=\"ignore\")\n",
    "pit_stops.isnull().sum() # no null values\n",
    "pit_stops.head()\n",
    "pit_stops.dtypes"
   ]
  },
  {
   "cell_type": "code",
   "execution_count": 168,
   "id": "fd753858-ba5f-4413-b72e-a9abc16fe68f",
   "metadata": {},
   "outputs": [
    {
     "data": {
      "text/html": [
       "<div>\n",
       "<style scoped>\n",
       "    .dataframe tbody tr th:only-of-type {\n",
       "        vertical-align: middle;\n",
       "    }\n",
       "\n",
       "    .dataframe tbody tr th {\n",
       "        vertical-align: top;\n",
       "    }\n",
       "\n",
       "    .dataframe thead th {\n",
       "        text-align: right;\n",
       "    }\n",
       "</style>\n",
       "<table border=\"1\" class=\"dataframe\">\n",
       "  <thead>\n",
       "    <tr style=\"text-align: right;\">\n",
       "      <th></th>\n",
       "      <th>driverid</th>\n",
       "      <th>driverref</th>\n",
       "      <th>forename</th>\n",
       "      <th>surname</th>\n",
       "      <th>dob</th>\n",
       "      <th>nationality</th>\n",
       "      <th>age</th>\n",
       "    </tr>\n",
       "  </thead>\n",
       "  <tbody>\n",
       "    <tr>\n",
       "      <th>0</th>\n",
       "      <td>1</td>\n",
       "      <td>hamilton</td>\n",
       "      <td>Lewis</td>\n",
       "      <td>Hamilton</td>\n",
       "      <td>1985-01-07</td>\n",
       "      <td>British</td>\n",
       "      <td>40.0</td>\n",
       "    </tr>\n",
       "    <tr>\n",
       "      <th>1</th>\n",
       "      <td>2</td>\n",
       "      <td>heidfeld</td>\n",
       "      <td>Nick</td>\n",
       "      <td>Heidfeld</td>\n",
       "      <td>1977-05-10</td>\n",
       "      <td>German</td>\n",
       "      <td>48.0</td>\n",
       "    </tr>\n",
       "    <tr>\n",
       "      <th>2</th>\n",
       "      <td>3</td>\n",
       "      <td>rosberg</td>\n",
       "      <td>Nico</td>\n",
       "      <td>Rosberg</td>\n",
       "      <td>1985-06-27</td>\n",
       "      <td>German</td>\n",
       "      <td>40.0</td>\n",
       "    </tr>\n",
       "    <tr>\n",
       "      <th>3</th>\n",
       "      <td>4</td>\n",
       "      <td>alonso</td>\n",
       "      <td>Fernando</td>\n",
       "      <td>Alonso</td>\n",
       "      <td>1981-07-29</td>\n",
       "      <td>Spanish</td>\n",
       "      <td>43.0</td>\n",
       "    </tr>\n",
       "    <tr>\n",
       "      <th>4</th>\n",
       "      <td>5</td>\n",
       "      <td>kovalainen</td>\n",
       "      <td>Heikki</td>\n",
       "      <td>Kovalainen</td>\n",
       "      <td>1981-10-19</td>\n",
       "      <td>Finnish</td>\n",
       "      <td>43.0</td>\n",
       "    </tr>\n",
       "  </tbody>\n",
       "</table>\n",
       "</div>"
      ],
      "text/plain": [
       "   driverid   driverref  forename     surname        dob nationality   age\n",
       "0         1    hamilton     Lewis    Hamilton 1985-01-07     British  40.0\n",
       "1         2    heidfeld      Nick    Heidfeld 1977-05-10      German  48.0\n",
       "2         3     rosberg      Nico     Rosberg 1985-06-27      German  40.0\n",
       "3         4      alonso  Fernando      Alonso 1981-07-29     Spanish  43.0\n",
       "4         5  kovalainen    Heikki  Kovalainen 1981-10-19     Finnish  43.0"
      ]
     },
     "execution_count": 168,
     "metadata": {},
     "output_type": "execute_result"
    }
   ],
   "source": [
    "from datetime import datetime\n",
    "drivers.head()\n",
    "pd.to_datetime(drivers.dob)\n",
    "drivers['dob'] = pd.to_datetime(drivers['dob'])\n",
    "dates = datetime.today()-drivers['dob']\n",
    "age = dates.dt.days/365\n",
    "drivers['age'] = round(age)\n",
    "drivers.head()"
   ]
  },
  {
   "cell_type": "code",
   "execution_count": 169,
   "id": "0aa8fe67-3541-4cec-8afd-b50ed5e56df1",
   "metadata": {},
   "outputs": [
    {
     "name": "stdout",
     "output_type": "stream",
     "text": [
      "Exporting cleaned data...\n",
      "Data preprocessing completed!\n"
     ]
    }
   ],
   "source": [
    "\n",
    "pit_stops['seconds'] = pit_stops['milliseconds'].apply(lambda x: x/1000)\n",
    "pit_stops['duration'] = pit_stops['milliseconds'].apply(lambda x: x/1000)\n",
    "pit_stops.drop(columns = [\"seconds\"])\n",
    "pit_stops.head()"
   ]
  },
  {
   "cell_type": "code",
   "execution_count": 170,
   "id": "ee7df39e-e021-4a72-9f3d-7e072f9ba30c",
   "metadata": {},
   "outputs": [
    {
     "name": "stdout",
     "output_type": "stream",
     "text": [
      "Done\n"
     ]
    }
   ],
   "source": [
    "# Export cleaned data\n",
    "print(\"Exporting cleaned data...\")\n",
    "drivers.to_csv(\"cleaned_drivers.csv\", index=False)\n",
    "constructors.to_csv(\"cleaned_constructors.csv\", index=False)\n",
    "races.to_csv(\"cleaned_races.csv\", index=False)\n",
    "results.to_csv(\"cleaned_results.csv\", index=False)\n",
    "seasons.to_csv(\"cleaned_seasons.csv\", index=False)\n",
    "circuits.to_csv(\"cleaned_circuits.csv\", index=False)\n",
    "status.to_csv(\"cleaned_status.csv\", index=False)\n",
    "driver_standings.to_csv(\"cleaned_driver_standings.csv\", index=False)\n",
    "constructor_standings.to_csv(\"cleaned_constructor_standings.csv\", index=False)\n",
    "\n",
    "print(\"Data preprocessing completed!\")"
   ]
  },
  {
   "cell_type": "code",
   "execution_count": null,
   "id": "b7bf4c0a-b9c9-4bd1-b7cd-0c250c39ae3f",
   "metadata": {},
   "outputs": [],
   "source": [
    "output_file = \"merged_f1_data.xlsx\"\n",
    "\n",
    "drivers = pd.read_csv(\"cleaned_drivers.csv\")\n",
    "constructors = pd.read_csv(\"cleaned_constructors.csv\")\n",
    "races = pd.read_csv(\"cleaned_races.csv\")\n",
    "results = pd.read_csv(\"cleaned_results.csv\")\n",
    "seasons = pd.read_csv(\"cleaned_seasons.csv\")\n",
    "circuits = pd.read_csv(\"cleaned_circuits.csv\")\n",
    "status = pd.read_csv(\"cleaned_status.csv\")\n",
    "driver_standings = pd.read_csv(\"cleaned_driver_standings.csv\")\n",
    "constructor_standings = pd.read_csv(\"cleaned_constructor_standings.csv\")\n",
    "lap_times = pd.read_csv(\"lap_times.csv\")\n",
    "pit_stops = pd.read_csv(\"pit_stops.csv\")\n",
    "\n",
    "with pd.ExcelWriter(output_file, engine='xlsxwriter') as writer: \n",
    "    drivers.to_excel(writer, sheet_name='Drivers', index=False)\n",
    "    constructors.to_excel(writer, sheet_name='Constructors', index=False)\n",
    "    races.to_excel(writer, sheet_name='Races', index=False)\n",
    "    results.to_excel(writer, sheet_name='Results', index=False)\n",
    "    seasons.to_excel(writer, sheet_name='Seasons', index=False)\n",
    "    circuits.to_excel(writer, sheet_name='Circuits', index=False)\n",
    "    status.to_excel(writer, sheet_name='Status', index=False)\n",
    "    lap_times.to_excel(writer, sheet_name='Lap Times', index=False)\n",
    "    pit_stops.to_excel(writer, sheet_name='Pit Stops', index=False)\n",
    "    driver_standings.to_excel(writer, sheet_name='Driver Standings', index=False)\n",
    "    constructor_standings.to_excel(writer, sheet_name='Constructor Standings', index=False)\n",
    "\n",
    "print(\"Done\")"
   ]
  },
  {
   "cell_type": "code",
   "execution_count": null,
   "id": "7d54f25b-cfdf-42d7-94a6-26e2c5a7f1fb",
   "metadata": {},
   "outputs": [],
   "source": []
  },
  {
   "cell_type": "code",
   "execution_count": null,
   "id": "52e0759f-ced9-4d55-9c4f-9ee3e8b87c66",
   "metadata": {},
   "outputs": [],
   "source": []
  },
  {
   "cell_type": "code",
   "execution_count": null,
   "id": "23aa6027-d598-46e2-a932-3ae8ad4805c2",
   "metadata": {},
   "outputs": [],
   "source": []
  },
  {
   "cell_type": "code",
   "execution_count": null,
   "id": "e2ec8b49-d12a-40b5-ba0c-06862e215b14",
   "metadata": {},
   "outputs": [],
   "source": []
  }
 ],
 "metadata": {
  "kernelspec": {
   "display_name": "Python [conda env:base] *",
   "language": "python",
   "name": "conda-base-py"
  },
  "language_info": {
   "codemirror_mode": {
    "name": "ipython",
    "version": 3
   },
   "file_extension": ".py",
   "mimetype": "text/x-python",
   "name": "python",
   "nbconvert_exporter": "python",
   "pygments_lexer": "ipython3",
   "version": "3.12.7"
  }
 },
 "nbformat": 4,
 "nbformat_minor": 5
}
